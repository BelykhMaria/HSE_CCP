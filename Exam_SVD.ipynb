{
 "cells": [
  {
   "cell_type": "markdown",
   "metadata": {},
   "source": [
    "# Singular Value Decomposition"
   ]
  },
  {
   "cell_type": "markdown",
   "metadata": {},
   "source": [
    "Let $A$ be a real $m\\times n$ matrix with $m\\geqslant n$. It is well known that \n",
    "\n",
    "$$A = U\\mathit{\\Sigma}V^T~~~~~~~~~~~~(1)$$\n",
    "\n",
    "\n",
    "where\n",
    "\n",
    "$$U^TU = V^TV = VV^T = I_n ~ and ~ \\mathit{\\Sigma} = diag (\\sigma_1, ... , \\sigma_n).$$\n",
    "\n",
    "The matrix $U$ consists of $n$ orthonormalized eigenvectors associated with the $n$ largest eigenvalues of $AA^T$, and the matrix $V$ consists of the orthonormalized eigenvectors of $A^TA$. The diagonal elements of $\\mathit{\\Sigma}$ are the non-negative square roots of the eigenvalues of $A^TA$; they are called $\\textit{singular values}$. We shall assume that\n",
    "\n",
    "$$\\sigma_1\\geqslant~...~\\geqslant \\sigma_n\\geqslant 0.$$\n",
    "\n",
    "Thus if $rank($A$)=r$, $\\sigma_{r+1}=~...~= \\sigma_{n}=0$. The decomposition (1) is called the $\\textit{singular value decomposition (SVD)}$. "
   ]
  },
  {
   "cell_type": "markdown",
   "metadata": {},
   "source": [
    "If the matrix $U$ is not needed, it would appear that one could apply the usual diagonatization algorithms to the symmetric matrix $A^TA$ which has to be formed explicitly. However, as in the case of linear least squares problems, the computation of $A^TA$ involves unnecessary numerical inaccuracy. For example, let \n",
    "\n",
    "$$\\mathbf{A} = \\begin{bmatrix}\n",
    "            \\mathbf{1} & \\mathbf{1}\\\\\n",
    "            \\mathbf{\\beta} & \\mathbf{0}\\\\\n",
    "            \\mathbf{0} & \\mathbf{\\beta}\n",
    "        \\end{bmatrix},$$\n",
    "        \n",
    "then\n",
    "\n",
    "$$\\mathbf{A^TA} = \\begin{bmatrix}\n",
    "            \\mathbf{1+\\beta^2} & \\mathbf{1}\\\\\n",
    "            \\mathbf{1} & \\mathbf{1+\\beta^2}\\\\\n",
    "        \\end{bmatrix}$$\n",
    "        \n",
    "so that\n",
    "\n",
    "$$\\sigma_1(A)=\\sqrt{(2+\\beta^2)},~~~~~\\sigma_2(A)=|\\beta|.$$\n",
    "\n",
    "If $\\beta^2 < \\varepsilon_0$, the machine precision, the computed $A^TA$ has the form $\\begin{bmatrix} 1 & 1 \\\\ 1 & 1 \\end{bmatrix}$, and the best one may obtain from diagonalization is $\\hat\\sigma_1=\\sqrt2 , \\hat\\sigma_2=0$ . "
   ]
  },
  {
   "cell_type": "markdown",
   "metadata": {},
   "source": [
    "The program described below is a two-step algorithm. It first reduces the matrix to bidiagonal form and then finds the SVD of the bidiagonal matrix. Reduction to bidiagonal form is accomplished using Householder transformations. Finding the SVD of a bidiagonal matrix is an iterative process that must be carefully performed in order to minimize both numerical errors and the number of iterations required."
   ]
  },
  {
   "cell_type": "code",
   "execution_count": 1,
   "metadata": {},
   "outputs": [],
   "source": [
    "import numpy as np\n",
    "from numpy.testing import assert_allclose\n",
    "\n",
    "TOL = 1e-4"
   ]
  },
  {
   "cell_type": "code",
   "execution_count": 2,
   "metadata": {},
   "outputs": [],
   "source": [
    "def get_sign(x):\n",
    "    if x >= 0:\n",
    "        return 1\n",
    "    return -1"
   ]
  },
  {
   "cell_type": "code",
   "execution_count": 3,
   "metadata": {},
   "outputs": [],
   "source": [
    "def set_lowVal_zero(X):\n",
    "    \n",
    "    low_values_indices = abs(X) < 9e-15   # where values are low\n",
    "    X[low_values_indices] = 0  # all low values set to 0\n",
    "    \n",
    "    return X"
   ]
  },
  {
   "cell_type": "code",
   "execution_count": 4,
   "metadata": {},
   "outputs": [],
   "source": [
    "def householder(vec, i):\n",
    "    x = np.asarray(vec, dtype=float)\n",
    "    if x.ndim != 1:\n",
    "        raise ValueError(\"vec.ndim = %s, expected 1\" % x.ndim)\n",
    "        \n",
    "    y = x.copy()\n",
    "    y[i] = np.linalg.norm(x) * -get_sign(x[i])\n",
    "    e = np.zeros(len(x))\n",
    "    e[i] = 1.0\n",
    "\n",
    "    u = (x - y * e) / np.linalg.norm(x - y * e)\n",
    "    H = np.eye(x.shape[0]) - 2 * np.outer(u, u)\n",
    "    \n",
    "    return H"
   ]
  },
  {
   "cell_type": "code",
   "execution_count": 5,
   "metadata": {},
   "outputs": [],
   "source": [
    "def householder_bidiagonalization(A):\n",
    "    \n",
    "# returns Bidiagnoliziation of A as (U, A, V.T)\n",
    "    R = np.copy(A)\n",
    "    m, n = R.shape\n",
    "    U = np.eye(m)\n",
    "    V = np.eye(n)    \n",
    "    \n",
    "    for i in range(n - 1):\n",
    "        \n",
    "        # zero columns\n",
    "        h = np.zeros(m)\n",
    "        h[i:] = R[i:, i]\n",
    "        H = householder(h, i)\n",
    "        \n",
    "        U = np.dot(U, H)\n",
    "        R = set_lowVal_zero(H @ R)\n",
    "        \n",
    "\n",
    "        # zero rows\n",
    "        h = np.zeros(n)\n",
    "        h[i+1:] = R[i, i+1:] \n",
    "        H1 = householder(h, i + 1)\n",
    "\n",
    "        V = np.dot(H1, V)\n",
    "        R = set_lowVal_zero(R @ H1)\n",
    "\n",
    "    return U, R, V"
   ]
  },
  {
   "cell_type": "markdown",
   "metadata": {},
   "source": [
    "An important piece of Demmel and Kahan's algorithm is a very efficient way of generating a $2\\times2$ \"Givens\" rotation matrix that annihilates the second component of a vector.\n",
    "\n",
    "This algorithm computes the cosine $c$ and sine $s$ of a rotation angle that satisfies the following condition.\n",
    "\n",
    "$$\\begin{bmatrix}\n",
    "        \\mathbf{c} & \\mathbf{s}\\\\\n",
    "         \\mathbf{-s} & \\mathbf{c}\n",
    "   \\end{bmatrix} \n",
    "   \\begin{bmatrix}\n",
    "          \\mathbf{f}\\\\\n",
    "           \\mathbf{g}\n",
    "    \\end{bmatrix} = \\begin{bmatrix}\n",
    "                           \\mathbf{r}\\\\\n",
    "                            \\mathbf{0}\n",
    "                    \\end{bmatrix}$$"
   ]
  },
  {
   "cell_type": "code",
   "execution_count": 6,
   "metadata": {},
   "outputs": [],
   "source": [
    "def rot(f, g):\n",
    "    if f == 0:\n",
    "        c = 0; s = 1\n",
    "        r = g\n",
    "    elif np.abs(f) > np.abs(g):\n",
    "        t = g / f\n",
    "        t1 = np.sqrt(1 + t*t)\n",
    "        \n",
    "        c = 1 / t1; s = t * c\n",
    "        r = f * t1\n",
    "    else:\n",
    "        t = f / g\n",
    "        t1 = np.sqrt(1 + t*t)\n",
    "        \n",
    "        s = 1 / t1; c = t * s\n",
    "        r = g * t1\n",
    "        \n",
    "    return c, s, r"
   ]
  },
  {
   "cell_type": "markdown",
   "metadata": {},
   "source": [
    "The standard algorithm is based on repeated QR-type \"sweeps\" through the bidiagonal matrix. In its simplest form, a sweep begins at the top left of the matrix and runs down the rows to the bottom. The algorithm continues until the final step on the bottom row that introduces no non-zeros. This process has been termed \"chasing the bulge\".\n",
    "\n",
    "In this algorithm, there are two orthogonal (rotation) matrices, $Q$ , employed.\n",
    "\n",
    "The important consequence of these two rotations is that the row with three non-zeros in it (the \"bulge\") has moved from row $i - 1$ to row $i$, while all other rows still have two non-zeros."
   ]
  },
  {
   "cell_type": "code",
   "execution_count": 7,
   "metadata": {},
   "outputs": [],
   "source": [
    "def msweep(R):\n",
    "    n, _ = np.shape(R)\n",
    "    U = np.eye(n)\n",
    "    V = np.eye(n)\n",
    "    \n",
    "    for i in range(n - 1):\n",
    "        c, s, r = rot(R[i, i], R[i, i+1])\n",
    "        # construct matrix Q and multiply on the right by Q.T\n",
    "        # this annihilates both R(i-1, i+1) and R(i, i+1) \n",
    "        # but makes R(i+1, i) non-zero\n",
    "        Q = np.eye(n)\n",
    "        Q[i:i+2, i:i+2] = np.array([[c, s], [-s, c]])\n",
    "        R = set_lowVal_zero(R @ Q.T)\n",
    "        V = set_lowVal_zero(V @ Q.T)\n",
    "        \n",
    "        c, s, r = rot(R[i, i], R[i+1, i])\n",
    "        # construct matrix Q and multiply on the left by Q\n",
    "        # This annihilates R(i+1, i) \n",
    "        # but makes R(i, i+1) and R(i, i+2) non-zero\n",
    "        Q = np.eye(n)\n",
    "        Q[i:i+2, i:i+2] = np.array([[c, s], [-s, c]])\n",
    "        R = set_lowVal_zero(Q @ R)\n",
    "        U = set_lowVal_zero(Q @ U)\n",
    "        \n",
    "    return U.T, R, V.T"
   ]
  },
  {
   "cell_type": "code",
   "execution_count": null,
   "metadata": {},
   "outputs": [],
   "source": [
    "def svd(X, tol=TOL):\n",
    "    n, _ = np.shape(X)\n",
    "\n",
    "    i_upper = n - 1\n",
    "    i_lower = 0\n",
    "\n",
    "    U, R, V  = householder_bidiagonalization(X)\n",
    "\n",
    "    for iter in range(n):\n",
    "        # find first non-zero bidiagonal element from the end\n",
    "        for i in range(i_upper, i_lower, -1):\n",
    "            i_upper = i\n",
    "            if np.abs(R[i - 1, i]) > TOL:\n",
    "                break\n",
    "            else:\n",
    "                R[i - 1, i] = 0\n",
    "                \n",
    "        # find first non-zero bidiagonal element from the begining      \n",
    "        for j in range(i_lower, i_upper):\n",
    "            i_lower = j\n",
    "            if np.abs(R[j, j + 1]) > TOL:\n",
    "                break\n",
    "            else:\n",
    "                R[j, j + 1] = 0\n",
    "                \n",
    "        if i_upper == i_lower and np.abs(R[i_upper, i_upper + 1]) <= TOL or i_upper < i_lower:\n",
    "            break\n",
    "            \n",
    "        U1, R, V1 = msweep(R)\n",
    "        U = np.dot(U, U1)\n",
    "        V = np.dot(V1, V)\n",
    "        \n",
    "    return U, R, V"
   ]
  },
  {
   "cell_type": "markdown",
   "metadata": {},
   "source": [
    "### Test 1"
   ]
  },
  {
   "cell_type": "code",
   "execution_count": null,
   "metadata": {},
   "outputs": [],
   "source": [
    "np.set_printoptions(suppress=True)"
   ]
  },
  {
   "cell_type": "code",
   "execution_count": null,
   "metadata": {},
   "outputs": [],
   "source": [
    "a = np.array([[4, 3, 0, 2],\n",
    "              [2, 1, 2, 1],\n",
    "              [4, 4, 0, 3],\n",
    "              [5, 6, 1, 3]])\n",
    "\n",
    "\n",
    "u, s, v = svd(a)\n",
    "\n",
    "assert_allclose(np.dot(u, u.T), np.eye(4), atol=1e-10)\n",
    "assert_allclose(np.dot(v, v.T), np.eye(4), atol=1e-10)\n",
    "assert_allclose(u @ s @ v, a, atol=1e-4)"
   ]
  },
  {
   "cell_type": "markdown",
   "metadata": {},
   "source": [
    "### Test 2"
   ]
  },
  {
   "cell_type": "code",
   "execution_count": null,
   "metadata": {},
   "outputs": [],
   "source": [
    "rndm = np.random.RandomState(1234)\n",
    "b = rndm.uniform(size=(5, 5))\n",
    "\n",
    "u, z, v = svd(b)\n",
    "\n",
    "assert_allclose(np.dot(u, u.T), np.eye(5), atol=1e-10)\n",
    "assert_allclose(np.dot(v, v.T), np.eye(5), atol=1e-10)\n",
    "assert_allclose(u @ z @ v, b, atol=1e-10)"
   ]
  },
  {
   "cell_type": "markdown",
   "metadata": {},
   "source": [
    "http://www.cs.utexas.edu/users/inderjit/public_papers/HLA_SVD.pdf\n",
    "\n",
    "http://www.math.pitt.edu/~sussmanm/2071Spring08/lab09/index.html\n",
    "\n",
    "http://people.duke.edu/~hpgavin/SystemID/References/Golub+Reinsch-NM-1970.pdf"
   ]
  }
 ],
 "metadata": {
  "kernelspec": {
   "display_name": "Python 3",
   "language": "python",
   "name": "python3"
  },
  "language_info": {
   "codemirror_mode": {
    "name": "ipython",
    "version": 3
   },
   "file_extension": ".py",
   "mimetype": "text/x-python",
   "name": "python",
   "nbconvert_exporter": "python",
   "pygments_lexer": "ipython3",
   "version": "3.7.3"
  }
 },
 "nbformat": 4,
 "nbformat_minor": 2
}
