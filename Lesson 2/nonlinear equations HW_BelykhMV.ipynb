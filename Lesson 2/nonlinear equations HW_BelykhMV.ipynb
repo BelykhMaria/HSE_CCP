{
 "cells": [
  {
   "cell_type": "markdown",
   "metadata": {},
   "source": [
    "# 1. Fixed-point iteration"
   ]
  },
  {
   "cell_type": "markdown",
   "metadata": {},
   "source": [
    "Rewrite $f(x) = 0$ as $x = \\phi(x)$ so that\n",
    "$$f(x_*) = 0 \\Leftrightarrow x_* = \\phi(x_*),$$\n",
    "where $x_*$ is the root of the first equation.\n",
    "\n",
    "The simplest way of costructing $\\phi(x)$ is\n",
    "$$\\phi(x) = x - \\alpha f(x).$$"
   ]
  },
  {
   "cell_type": "markdown",
   "metadata": {},
   "source": [
    "The iterative process\n",
    "$$x_{n+1} = \\phi(x_{n})$$\n",
    "converges to the root $x_*$ if $\\lim\\limits_{n \\rightarrow} x_n = x_*$."
   ]
  },
  {
   "cell_type": "markdown",
   "metadata": {},
   "source": [
    "Consider the following equation:\n",
    "\n",
    "$$\n",
    "\\sqrt{x} = \\cos{x}\n",
    "$$\n",
    "\n",
    "Plot the left-hand side and right-hand side of this equation, and localize the root graphically. Estimate the location of the root by visual inspection of the plot.\n",
    "\n",
    "Write a function which finds the solution using fixed-point iteration up to a predefined accuracy $\\epsilon$ in the form\n",
    "\n",
    "$$\n",
    "\\phi(x) = x - \\alpha f(x),\n",
    "$$\n",
    "\n",
    "where $\\alpha$ is the free parameter. Check the dependence of the number of iterations required for a given $\\epsilon$ on $\\alpha$ (visualize this dependence for three different values of $epsilon$). Compare your results to an expectation that the optimal value of $\\alpha$ is given by \n",
    "\n",
    "$$\n",
    "\\alpha = \\frac{2}{m + M}\n",
    "$$\n",
    "\n",
    "where $0 < m < |f'(x)| < M$ over the localization interval (highlight it on the plot)."
   ]
  },
  {
   "cell_type": "code",
   "execution_count": 2,
   "metadata": {},
   "outputs": [],
   "source": [
    "import numpy as np\n",
    "%matplotlib inline\n",
    "\n",
    "import matplotlib.pyplot as plt"
   ]
  },
  {
   "cell_type": "code",
   "execution_count": 2,
   "metadata": {},
   "outputs": [],
   "source": [
    "def f(x):\n",
    "    return np.sqrt(x)\n",
    "\n",
    "\n",
    "def g(x):\n",
    "    return np.cos(x)\n",
    "\n",
    "\n",
    "def gen(x):\n",
    "    return f(x) - g(x)\n",
    "\n",
    "\n",
    "def gen_prime(x, sign = 1.0):\n",
    "    return sign * (1 / (2 * np.sqrt(x)) + np.sin(x))"
   ]
  },
  {
   "cell_type": "code",
   "execution_count": 3,
   "metadata": {},
   "outputs": [
    {
     "data": {
      "text/plain": [
       "[<matplotlib.lines.Line2D at 0x2dc84e1e898>]"
      ]
     },
     "execution_count": 3,
     "metadata": {},
     "output_type": "execute_result"
    },
    {
     "data": {
      "image/png": "[encoded data removed]",
      "text/plain": [
       "<Figure size 432x288 with 1 Axes>"
      ]
     },
     "metadata": {
      "needs_background": "light"
     },
     "output_type": "display_data"
    }
   ],
   "source": [
    "xx = np.linspace(0, 2)\n",
    "fig, ax = plt.subplots()\n",
    "ax.axvline(0, ls='--', lw=1); plt.axhline(0, ls='--', lw=1)\n",
    "ax.plot(xx, f(xx))\n",
    "ax.plot(xx, g(xx))\n",
    "#ax.plot(xx, gen(xx))\n",
    "\n",
    "plt.plot([0.5, 0.8], [f(0.5), f(0.8)], 'o', ms=10, mec='none')\n",
    "plt.plot([0.5, 0.8], [g(0.5), g(0.8)], '^', ms=10, mec='none')"
   ]
  },
  {
   "cell_type": "markdown",
   "metadata": {},
   "source": [
    "Find the solution (and number of iterations) of the equation above using fixed-point iteration for $\\alpha = 1$ and $\\epsilon = 0.001$ (for Google form)."
   ]
  },
  {
   "cell_type": "code",
   "execution_count": 4,
   "metadata": {},
   "outputs": [
    {
     "name": "stdout",
     "output_type": "stream",
     "text": [
      "In 4 steps the root 0.641391163064432 was obtained\n"
     ]
    }
   ],
   "source": [
    "eps = 0.001\n",
    "x0 = 0.5\n",
    "a = 1\n",
    "\n",
    "\n",
    "def mpi(a, eps):\n",
    "    step = 0\n",
    "    x = x0\n",
    "    x1 = x0 - a * gen(x0)\n",
    "    \n",
    "    while abs(x1 - x) > eps:\n",
    "        x = x1\n",
    "        step += 1\n",
    "        x1 = x - a * gen(x)\n",
    "        \n",
    "    return step, x\n",
    "\n",
    "    \n",
    "    \n",
    "print('In ' + str(mpi(a, eps)[0]) + ' steps', 'the root ' + str(mpi(a, eps)[1]) + ' was obtained')"
   ]
  },
  {
   "cell_type": "code",
   "execution_count": 5,
   "metadata": {},
   "outputs": [
    {
     "data": {
      "text/plain": [
       "<matplotlib.lines.Line2D at 0x2dc84eed438>"
      ]
     },
     "execution_count": 5,
     "metadata": {},
     "output_type": "execute_result"
    },
    {
     "data": {
      "image/png": "[encoded data removed]",
      "text/plain": [
       "<Figure size 432x288 with 1 Axes>"
      ]
     },
     "metadata": {
      "needs_background": "light"
     },
     "output_type": "display_data"
    }
   ],
   "source": [
    "eps1 = 0.001\n",
    "eps2 = 0.000001\n",
    "eps3 = 0.0001\n",
    "\n",
    "a = [1, 0.5, 0.75, 0.25, 1.25, 1.5]\n",
    "\n",
    "fig = plt.figure()\n",
    "ax = fig.add_subplot()\n",
    "\n",
    "\n",
    "def graph(a, f, color, el):\n",
    "    return ax.plot(a, f, el, color=color, linewidth=2)\n",
    "\n",
    "\n",
    "for i in a:\n",
    "    graph(i, mpi(i, eps1)[0], 'blue', 'o')\n",
    "    graph(i, mpi(i, eps2)[0], 'red', 'x')\n",
    "    graph(i, mpi(i, eps3)[0], 'yellow', '^')\n",
    "\n",
    "\n",
    "ax.axvline(0, ls='--', lw=1); plt.axhline(0, ls='--', lw=1)"
   ]
  },
  {
   "cell_type": "code",
   "execution_count": 6,
   "metadata": {},
   "outputs": [
    {
     "name": "stdout",
     "output_type": "stream",
     "text": [
      "0.7934168147877793\n"
     ]
    },
    {
     "data": {
      "text/plain": [
       "[<matplotlib.lines.Line2D at 0x2dc85775860>]"
      ]
     },
     "execution_count": 6,
     "metadata": {},
     "output_type": "execute_result"
    },
    {
     "data": {
      "image/png": "[encoded data removed]",
      "text/plain": [
       "<Figure size 432x288 with 1 Axes>"
      ]
     },
     "metadata": {
      "needs_background": "light"
     },
     "output_type": "display_data"
    }
   ],
   "source": [
    "from scipy.optimize import minimize\n",
    "\n",
    "opt_min = minimize(gen_prime, x0, args=1, bounds=[(0, 1)], method='SLSQP')\n",
    "opt_max = minimize(gen_prime, x0, args=-1, bounds=[(0, 1)], method='SLSQP',)\n",
    "\n",
    "a = 2 / (opt_min.__getitem__('fun') - opt_max.__getitem__('fun'))\n",
    "print(a)\n",
    "\n",
    "fig = plt.figure()\n",
    "ax = fig.add_subplot()\n",
    "\n",
    "graph(a, mpi(a, eps1)[0], 'green', 'o')\n",
    "graph(a, mpi(a, eps2)[0], 'green', 'x')\n",
    "graph(a, mpi(a, eps3)[0], 'green', '^')"
   ]
  },
  {
   "cell_type": "markdown",
   "metadata": {},
   "source": [
    "# 2. Inverse quadratic interpolation"
   ]
  },
  {
   "cell_type": "markdown",
   "metadata": {},
   "source": [
    "Suppose we have three different consequitive iterates $x_0$, $x_1$ and $x_2$ and a function $f(x)$: $y_i = f(x_i)$.\n",
    "\n",
    "Construct a unique parabola which passes through $(x_i, y_i)$. Take as a next approximation, $x_3$, the root of this parabola.\n",
    "\n",
    "In order not to solve another nonlinear equation on each step, use an inverse interpolation: construct a second order polynomial $Q(y)$ such that $Q(y_i) = x_i$. Then $x_3 = Q(0)$."
   ]
  },
  {
   "cell_type": "markdown",
   "metadata": {},
   "source": [
    "Now, write a function which finds the solution using inverse quadratic interpolation up to a predefined accuracy $\\epsilon$."
   ]
  },
  {
   "cell_type": "code",
   "execution_count": 3,
   "metadata": {},
   "outputs": [
    {
     "name": "stdout",
     "output_type": "stream",
     "text": [
      "root is: 0.8603335422385414 -1.2818763484023776e-07\n",
      "steps: 2\n"
     ]
    }
   ],
   "source": [
    "def f(x):\n",
    "    return x - np.cos(x) / np.sin(x)\n",
    "\n",
    "\n",
    "def inv_quad_interpolation(func, point_0, point_1, point_2, eps=0.001):\n",
    "    step = 0\n",
    "    while abs(point_2 - point_1) > eps:\n",
    "        y0 = func(point_0)\n",
    "        y1 = func(point_1)\n",
    "        y2 = func(point_2)\n",
    "        \n",
    "        point_3 = (point_0 * y1 * y2) / ((y0 - y1) * (y0 - y2)) \\\n",
    "                + (point_1 * y0 * y2) / ((y1 - y0) * (y1 - y2)) \\\n",
    "                + (point_2 * y1 * y0) / ((y2 - y0) * (y2 - y1))\n",
    "        point_0, point_1, point_2 = point_1, point_2, point_3\n",
    "        \n",
    "        step += 1\n",
    "    return point_2, step\n",
    "\n",
    "x0 = 0.6\n",
    "x1 = 0.8\n",
    "x2 = 1\n",
    "step = 0\n",
    "\n",
    "x3, step = inv_quad_interpolation(f, x0, x1, x2)\n",
    "\n",
    "print(\"root is:\", x3, f(x3))\n",
    "print(\"steps:\", step)"
   ]
  },
  {
   "cell_type": "markdown",
   "metadata": {},
   "source": [
    "Now implement your function to solve equation\n",
    "$$x = \\mbox{ctg}(x)$$\n",
    "in the interval $x \\in (0.5, 1)$ with $x_0 = 0.6$, $x_1 = 0.8$ and $x_2 = 1$. What is the solution for $\\epsilon = 0.001$? How many iterations did it take to find it? (You will need the answers for Google Form)."
   ]
  },
  {
   "cell_type": "markdown",
   "metadata": {},
   "source": [
    "# 3. Newton-Raphson method"
   ]
  },
  {
   "cell_type": "markdown",
   "metadata": {},
   "source": [
    "Implement the Newton-Raphson method to solve equation $z^3 - 1 = 0$ for complex $z$. Visualize and describe the convergence domain."
   ]
  },
  {
   "cell_type": "code",
   "execution_count": 12,
   "metadata": {},
   "outputs": [
    {
     "name": "stdout",
     "output_type": "stream",
     "text": [
      "root is: (1.0001341442102127-9.532218509626742e-05j)\n",
      "root1 is: (-0.4999999113699129+0.8660249031568892j)\n",
      "root2 is: (-0.4999999113699129-0.8660249031568892j)\n"
     ]
    }
   ],
   "source": [
    "def f(z):\n",
    "    return z**3 - 1\n",
    "\n",
    "\n",
    "def fprime(z):\n",
    "    return 3 * z**2\n",
    "\n",
    "\n",
    "def newton_raphson(f, fprime, x0, eps=0.001):\n",
    "    x = x0\n",
    "    while abs(f(x)) > eps:\n",
    "        x = x - f(x)/fprime(x)\n",
    "    return x\n",
    "\n",
    "x1 = newton_raphson(f, fprime, 1+1j)\n",
    "x2 = newton_raphson(f, fprime, -1+1j)\n",
    "x3 = newton_raphson(f, fprime, -1-1j)\n",
    "\n",
    "\n",
    "print(\"root is:\", x1)\n",
    "print(\"root1 is:\", x2)\n",
    "print(\"root2 is:\", x3)"
   ]
  },
  {
   "cell_type": "code",
   "execution_count": 13,
   "metadata": {},
   "outputs": [],
   "source": [
    "def newton_set(width, height, zoom=1, x_off=0, y_off=0, niter=256):\n",
    "    \"\"\" Fractals using newton-raphson \"\"\"\n",
    "\n",
    "    #Pixels array\n",
    "    pixels = np.arange(width * height * 3, dtype=np.uint32).reshape(height, width, 3)\n",
    "    xa, xb, ya, yb = -2.5, 2.5, -2.5, 2.5\n",
    "    h = 1e-7 #step size for numerical derivative\n",
    "    eps = 1e-3 #max error allowed\n",
    "\n",
    "    #Color multiplication factor\n",
    "    #NOTE: Increasing this darkens the image and lightens it otherwise\n",
    "    multcol = 5\n",
    "    for y in range(height):\n",
    "        zy = (y + y_off) * (yb - ya) / (zoom * (height - 1)) + ya\n",
    "\n",
    "        for x in range(width):\n",
    "            zx = (x + x_off) * (xb - xa) / (zoom * (width - 1)) + xa\n",
    "\n",
    "            #Mapping real -> complex plane\n",
    "            z = complex(zx, zy)\n",
    "            count = 0\n",
    "            \n",
    "            for i in range(niter):\n",
    "                #complex numerical derivative\n",
    "                if fprime == 0:\n",
    "                    break\n",
    "\n",
    "                count += 1\n",
    "                if count > 255:\n",
    "                    break\n",
    "                \n",
    "                z0 = newton_raphson(f, fprime, z)\n",
    "                if abs(z0 - z) < eps: #stop when close enough to any root\n",
    "                    break\n",
    "                z = z0\n",
    "\n",
    "            #Pixels colored using the roots\n",
    "            if abs(z - x1) <= eps:\n",
    "                pixels[y,x] = (255 - count * multcol, 0, 0) #color red\n",
    "            elif abs(z - x2) <= eps:\n",
    "                pixels[y, x] = (0, 255 - count * multcol, 0) #color green\n",
    "            elif abs(z - x3) <= eps:\n",
    "                pixels[y, x] = (0, 0, 255 - count * multcol) #color blue\n",
    "    return pixels"
   ]
  },
  {
   "cell_type": "code",
   "execution_count": 14,
   "metadata": {},
   "outputs": [
    {
     "data": {
      "image/png": "[encoded data removed]",
      "text/plain": [
       "<Figure size 432x288 with 1 Axes>"
      ]
     },
     "metadata": {
      "needs_background": "light"
     },
     "output_type": "display_data"
    }
   ],
   "source": [
    "pimg = newton_set(width=1024, height=1024, zoom=1, x_off=0, y_off=0, niter=1024)\n",
    "plt.axis('off')\n",
    "plt.imshow(pimg)\n",
    "plt.show()"
   ]
  },
  {
   "cell_type": "markdown",
   "metadata": {},
   "source": [
    "Hint: visualize the convergence domain as a scatter plot of coloured points (the colour of the point depends on the root it converged to)."
   ]
  }
 ],
 "metadata": {
  "kernelspec": {
   "display_name": "Python 3",
   "language": "python",
   "name": "python3"
  },
  "language_info": {
   "codemirror_mode": {
    "name": "ipython",
    "version": 3
   },
   "file_extension": ".py",
   "mimetype": "text/x-python",
   "name": "python",
   "nbconvert_exporter": "python",
   "pygments_lexer": "ipython3",
   "version": "3.7.3"
  }
 },
 "nbformat": 4,
 "nbformat_minor": 2
}
