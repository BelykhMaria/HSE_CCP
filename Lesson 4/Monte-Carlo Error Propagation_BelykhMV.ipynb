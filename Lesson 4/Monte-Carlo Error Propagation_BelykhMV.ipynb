{
 "cells": [
  {
   "cell_type": "code",
   "execution_count": 163,
   "metadata": {},
   "outputs": [],
   "source": [
    "import numpy as np\n",
    "%matplotlib inline\n",
    "import matplotlib.pyplot as plt"
   ]
  },
  {
   "cell_type": "markdown",
   "metadata": {},
   "source": [
    "# Part 1"
   ]
  },
  {
   "cell_type": "code",
   "execution_count": 164,
   "metadata": {},
   "outputs": [],
   "source": [
    "G = 6.67384 * 10 ** (-11)\n",
    "\n",
    "M1_val = 40 * 10 ** 4\n",
    "M1_dev = 0.05 * 10 ** 4\n",
    "M2_val = 30 * 10 ** 4\n",
    "M2_dev = 0.1 * 10 ** 4\n",
    "r_val = 3.2\n",
    "r_dev = 0.01"
   ]
  },
  {
   "cell_type": "code",
   "execution_count": 165,
   "metadata": {},
   "outputs": [
    {
     "name": "stdout",
     "output_type": "stream",
     "text": [
      "0.7820906249999999 0.004438311659528638\n"
     ]
    }
   ],
   "source": [
    "# Standard error propagation rules\n",
    "F_val = G * M1_val * M2_val / r_val ** 2\n",
    "F_dev = np.abs(F_val) * np.sqrt((M1_dev / M1_val) ** 2\n",
    "                  + (M2_dev / M2_val) ** 2\n",
    "                  + 2 * (r_dev / r_val) ** 2)\n",
    "print(F_val, F_dev)"
   ]
  },
  {
   "cell_type": "code",
   "execution_count": 166,
   "metadata": {},
   "outputs": [
    {
     "name": "stdout",
     "output_type": "stream",
     "text": [
      "0.7821107093791856 0.005630380551843597\n"
     ]
    }
   ],
   "source": [
    "# Monte-Carlo error propagation\n",
    "N = 1000000\n",
    "M1 = np.random.normal(M1_val, M1_dev, N)\n",
    "M2 = np.random.normal(M2_val, M2_dev, N)\n",
    "r = np.random.normal(r_val, r_dev, N)\n",
    "\n",
    "F = G * M1 * M2 / r ** 2\n",
    "print(np.mean(F), np.std(F))"
   ]
  },
  {
   "cell_type": "code",
   "execution_count": 167,
   "metadata": {},
   "outputs": [
    {
     "data": {
      "text/plain": [
       "(0.75, 0.81)"
      ]
     },
     "execution_count": 167,
     "metadata": {},
     "output_type": "execute_result"
    },
    {
     "data": {
      "image/png": "[encoded data removed]",
      "text/plain": [
       "<Figure size 432x288 with 1 Axes>"
      ]
     },
     "metadata": {
      "needs_background": "light"
     },
     "output_type": "display_data"
    }
   ],
   "source": [
    "def gaussian(x, m, dev):\n",
    "    norm = 1 / (dev * np.sqrt(2 * np.pi))\n",
    "    return norm * np.exp(-(x - m) ** 2 / (2 * dev ** 2))\n",
    "\n",
    "x = np.linspace(0.75, 0.81, 1000)\n",
    "y = gaussian(x, np.mean(F), np.std(F))\n",
    "\n",
    "plt.hist(F, bins=70, range=[0.75, 0.81], density=True)\n",
    "plt.plot(x, y, lw=3)\n",
    "plt.xlim(0.75, 0.81)"
   ]
  },
  {
   "cell_type": "markdown",
   "metadata": {},
   "source": [
    "# Part 2"
   ]
  },
  {
   "cell_type": "code",
   "execution_count": 168,
   "metadata": {},
   "outputs": [],
   "source": [
    "G = 6.67384 * 10 ** (-11)\n",
    "\n",
    "M1_val = 40 * 10 ** 4\n",
    "M1_dev = 2 * 10 ** 4\n",
    "M2_val = 30 * 10 ** 4\n",
    "M2_dev = 10 * 10 ** 4\n",
    "r_val = 3.2\n",
    "r_dev = 1.0"
   ]
  },
  {
   "cell_type": "code",
   "execution_count": 169,
   "metadata": {},
   "outputs": [
    {
     "name": "stdout",
     "output_type": "stream",
     "text": [
      "0.7820906249999999 0.43469298471288537\n"
     ]
    }
   ],
   "source": [
    "# Standard error propagation rules\n",
    "F_val = G * M1_val * M2_val / r_val ** 2\n",
    "F_dev = F_val * np.sqrt((M1_dev / M1_val) ** 2\n",
    "                  + (M2_dev / M2_val) ** 2\n",
    "                  + 2 * (r_dev / r_val) ** 2)\n",
    "print(F_val, F_dev)"
   ]
  },
  {
   "cell_type": "code",
   "execution_count": 170,
   "metadata": {},
   "outputs": [
    {
     "name": "stdout",
     "output_type": "stream",
     "text": [
      "792.0432148719905 694880.6805229277\n"
     ]
    }
   ],
   "source": [
    "# Monte-Carlo error propagation\n",
    "N = 1000000\n",
    "M1 = np.random.normal(M1_val, M1_dev, N)\n",
    "M2 = np.random.normal(M2_val, M2_dev, N)\n",
    "r = np.random.normal(r_val, r_dev, N)\n",
    "\n",
    "F = G * M1 * M2 / r ** 2\n",
    "print(np.mean(F), np.std(F))"
   ]
  },
  {
   "cell_type": "code",
   "execution_count": 171,
   "metadata": {},
   "outputs": [
    {
     "data": {
      "text/plain": [
       "(-2, 7)"
      ]
     },
     "execution_count": 171,
     "metadata": {},
     "output_type": "execute_result"
    },
    {
     "data": {
      "image/png": "[encoded data removed]",
      "text/plain": [
       "<Figure size 432x288 with 1 Axes>"
      ]
     },
     "metadata": {
      "needs_background": "light"
     },
     "output_type": "display_data"
    }
   ],
   "source": [
    "def gaussian(x, m, dev):\n",
    "    norm = 1 / (dev * np.sqrt(2 * np.pi))\n",
    "    return norm * np.exp(-(x - m) ** 2 / (2 * dev ** 2))\n",
    "\n",
    "\n",
    "x = np.linspace(-2, 7, 1000)\n",
    "y = gaussian(x, F_val, F_dev)\n",
    "plt.hist(F, bins=70, range=[-2, 7], density=True)\n",
    "plt.plot(x, y, lw=3)\n",
    "plt.xlim(-2, 7)"
   ]
  }
 ],
 "metadata": {
  "kernelspec": {
   "display_name": "Python 3",
   "language": "python",
   "name": "python3"
  },
  "language_info": {
   "codemirror_mode": {
    "name": "ipython",
    "version": 3
   },
   "file_extension": ".py",
   "mimetype": "text/x-python",
   "name": "python",
   "nbconvert_exporter": "python",
   "pygments_lexer": "ipython3",
   "version": "3.7.3"
  }
 },
 "nbformat": 4,
 "nbformat_minor": 2
}
