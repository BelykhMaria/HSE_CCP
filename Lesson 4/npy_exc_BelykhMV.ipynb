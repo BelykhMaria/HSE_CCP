{
 "cells": [
  {
   "cell_type": "markdown",
   "metadata": {},
   "source": [
    "# `numpy` practice"
   ]
  },
  {
   "cell_type": "code",
   "execution_count": 1,
   "metadata": {},
   "outputs": [],
   "source": [
    "import numpy as np"
   ]
  },
  {
   "cell_type": "markdown",
   "metadata": {},
   "source": [
    "1. Do numpy exercises 6, 8, 9 and 19.\n",
    "\n",
    "1. numpy exercise 44.\n",
    "\n",
    "1. A snail curve is defined by the following equation in polar coordinates: $r = a + \\cos\\phi$. Plot the curve on an $x$-$y$ plane for several values of $a$. (Hint: `np.linspace` creates a linearly spaced array of values)\n",
    "\n",
    "2. A *cochleoid* curve is defined by the following equation in polar coordinates: $r = a \\dfrac{\\sin\\phi} {\\phi }$. Plot the curve on an $x$-$y$ plane. (This time, use `np.where` to work around division by zero).\n",
    "\n",
    "3. Given two arrays, `u` and `v`, construct the Cauchy matrix using 1) explicit broadcasting, and 2) `subtract.outer` attribute.\n",
    "\n",
    "4. See \"Monte Carlo Error propagation\" (separate html)"
   ]
  },
  {
   "cell_type": "markdown",
   "metadata": {
    "collapsed": true
   },
   "source": [
    "N. Rougier, *Numpy 100 excercises*, https://github.com/rougier/numpy-100/blob/master/100_Numpy_exercises_no_solution.md"
   ]
  },
  {
   "cell_type": "markdown",
   "metadata": {},
   "source": [
    "# 100 numpy exercises"
   ]
  },
  {
   "cell_type": "code",
   "execution_count": 2,
   "metadata": {},
   "outputs": [],
   "source": [
    "# Ex 6:\n",
    "x = np.zeros(10)\n",
    "x[5] = 1\n",
    "print(x)"
   ]
  },
  {
   "cell_type": "code",
   "execution_count": 3,
   "metadata": {},
   "outputs": [],
   "source": [
    "# Ex 8:\n",
    "x = np.arange(0, 10)\n",
    "x = x[::-1]\n",
    "print(x)"
   ]
  },
  {
   "cell_type": "code",
   "execution_count": 4,
   "metadata": {},
   "outputs": [],
   "source": [
    "# Ex 9:\n",
    "x = np.arange(0, 9).reshape(3, 3)\n",
    "print(x)"
   ]
  },
  {
   "cell_type": "code",
   "execution_count": 5,
   "metadata": {},
   "outputs": [],
   "source": [
    "# Ex 19:\n",
    "x = np.zeros((8, 8), dtype=int)\n",
    "x[1::2, ::2] = 1\n",
    "x[::2, 1::2] = 1\n",
    "print(x)"
   ]
  },
  {
   "cell_type": "code",
   "execution_count": 6,
   "metadata": {},
   "outputs": [],
   "source": [
    "# Ex 44:\n",
    "z = np.random.random((10,2))\n",
    "x, y = z[:, 0], z[:, 1]\n",
    "r = np.sqrt(x ** 2 + y ** 2)\n",
    "t = np.arctan2(y, x)\n",
    "print(r)\n",
    "print(t)"
   ]
  },
  {
   "cell_type": "markdown",
   "metadata": {},
   "source": [
    "# Snail curve"
   ]
  },
  {
   "cell_type": "code",
   "execution_count": 7,
   "metadata": {},
   "outputs": [],
   "source": [
    "phi = np.linspace(-np.pi, np.pi, 201)\n",
    "a = np.linspace(-10, 10, 25)\n",
    "\n",
    "import matplotlib.pyplot as plt\n",
    "for i in a:\n",
    "    r = i + np.cos(phi)\n",
    "    x = r * np.cos(phi)\n",
    "    y = r * np.sin(phi)\n",
    "    plt.plot(x, y)\n",
    "plt.show()"
   ]
  },
  {
   "cell_type": "markdown",
   "metadata": {},
   "source": [
    "# Cochleoid"
   ]
  },
  {
   "cell_type": "code",
   "execution_count": 8,
   "metadata": {},
   "outputs": [
    {
     "data": {
      "image/png": "[encoded data removed]",
      "text/plain": [
       "<Figure size 432x288 with 1 Axes>"
      ]
     },
     "metadata": {
      "needs_background": "light"
     },
     "output_type": "display_data"
    }
   ],
   "source": [
    "phi = np.linspace(-2*np.pi, 2*np.pi, 201)\n",
    "a = 0.5\n",
    "\n",
    "phi = phi[np.where(phi!=0)]\n",
    "r = a * np.sin(phi) / phi\n",
    "\n",
    "x = r * np.cos(phi)\n",
    "y = r * np.sin(phi)\n",
    "\n",
    "import matplotlib.pyplot as plt\n",
    "plt.plot(x, y)\n",
    "plt.show()"
   ]
  }
 ],
 "metadata": {
  "kernelspec": {
   "display_name": "Python 3",
   "language": "python",
   "name": "python3"
  },
  "language_info": {
   "codemirror_mode": {
    "name": "ipython",
    "version": 3
   },
   "file_extension": ".py",
   "mimetype": "text/x-python",
   "name": "python",
   "nbconvert_exporter": "python",
   "pygments_lexer": "ipython3",
   "version": "3.7.3"
  }
 },
 "nbformat": 4,
 "nbformat_minor": 1
}
