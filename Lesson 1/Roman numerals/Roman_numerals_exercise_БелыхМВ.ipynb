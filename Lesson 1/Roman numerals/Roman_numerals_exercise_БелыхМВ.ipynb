{
 "cells": [
  {
   "cell_type": "markdown",
   "metadata": {},
   "source": [
    "# Roman numerals"
   ]
  },
  {
   "cell_type": "markdown",
   "metadata": {},
   "source": [
    "## I. Roman numerals to decimals\n",
    "\n",
    "Write a function which receives a Roman numeral written out as a string, and returns an integer representing the decimal form of the input number. "
   ]
  },
  {
   "cell_type": "code",
   "execution_count": 1,
   "metadata": {},
   "outputs": [],
   "source": [
    "mapping = {\"I\" : 1, \n",
    "           \"V\" : 5,\n",
    "           \"X\" : 10,\n",
    "           \"L\" : 50,\n",
    "           \"C\" : 100,\n",
    "           \"D\" : 500,\n",
    "           \"M\" : 1000}"
   ]
  },
  {
   "cell_type": "code",
   "execution_count": 41,
   "metadata": {},
   "outputs": [],
   "source": [
    "def roman_to_decimal(rom):\n",
    "    \"\"\"Convert a Roman numeral to decimal.\n",
    "    \n",
    "    Parameters\n",
    "    ----------\n",
    "    rom : str\n",
    "        A Roman numeral representing a positive integer.\n",
    "        \n",
    "    Returns\n",
    "    -------\n",
    "    dec : int\n",
    "        The result of conversion of `rom` into a decimal system.\n",
    "    \"\"\"\n",
    "    '''dec = mapping[rom[0]]\n",
    "    for i in range(1, len(rom)):\n",
    "        if mapping[rom[i - 1]] < mapping[rom[i]]:\n",
    "            dec -= mapping[rom[i]]\n",
    "        else:\n",
    "            dec += mapping[rom[i]]\n",
    "    \n",
    "    return dec if dec > 0 else -dec'''\n",
    "    i = len(rom) - 1\n",
    "    dec = mapping[rom[i]]\n",
    "    while i:\n",
    "        if mapping[rom[i]] > mapping[rom[i - 1]]:\n",
    "            dec -= mapping[rom[i - 1]]\n",
    "        else:\n",
    "            dec += mapping[rom[i - 1]]\n",
    "\n",
    "        i -= 1        \n",
    "   \n",
    "    return dec if dec > 0 else -dec"
   ]
  },
  {
   "cell_type": "markdown",
   "metadata": {},
   "source": [
    "Here are some tests for you to test your code. Your code must pass all of them. You also need to come up with several more tests (your choice)."
   ]
  },
  {
   "cell_type": "code",
   "execution_count": 52,
   "metadata": {},
   "outputs": [
    {
     "name": "stdout",
     "output_type": "stream",
     "text": [
      "True\n",
      "True\n",
      "True\n",
      "True\n",
      "True\n",
      "True\n",
      "True\n",
      "True\n"
     ]
    }
   ],
   "source": [
    "test_pairs = [(\"IX\", 9), (\"XI\", 11), (\"MCCII\", 1202), (\"MMXVIII\", 2018), (\"XLIX\", 49), (\"MMXIX\", 2019), \n",
    "              (\"MCDXCV\", 1495), (\"CLXXVII\", 177)]\n",
    "\n",
    "for rom, dec in test_pairs:\n",
    "    converted = roman_to_decimal(rom)\n",
    "    print(converted == dec)"
   ]
  },
  {
   "cell_type": "markdown",
   "metadata": {},
   "source": [
    "Now you can run tests in file `tests_roman_to_decimal.txt`. You need to insert a number of false results and listed false results in respective fields in Google Form for this lesson."
   ]
  },
  {
   "cell_type": "code",
   "execution_count": 53,
   "metadata": {},
   "outputs": [
    {
     "name": "stdout",
     "output_type": "stream",
     "text": [
      "MCCXLVIII 1246\n",
      "MCCLXX 1273\n",
      "MDCCX 1708\n",
      "LXXXIV 81\n",
      "DCCXCVII 799\n",
      "CDXXIX 430\n",
      "MDCCXCI 1790\n"
     ]
    }
   ],
   "source": [
    "p_roman = \"tests_roman_to_decimal.txt\"\n",
    "with open(p_roman, \"rb\") as fp_roman:\n",
    "    lines_roman=fp_roman.readlines()\n",
    "\n",
    "test_data_roman = [line.strip().decode(\"ascii\").split(',') for line in lines_roman]\n",
    "test_data_roman = [(line[0], int(line[1])) for line in test_data_roman]\n",
    "\n",
    "for rom, dec in test_data_roman:\n",
    "    converted = roman_to_decimal(rom)\n",
    "    if converted != dec:\n",
    "        print(rom, dec)"
   ]
  },
  {
   "cell_type": "markdown",
   "metadata": {},
   "source": [
    "## II. Decimal numbers to roman numerals.\n",
    "\n",
    "The maximum grade for first task (Roman to decimal) is 7 on the 10-point HSE scale. For extra credit, complete the second task: *given a decimal number, convert it to the Roman form*."
   ]
  },
  {
   "cell_type": "code",
   "execution_count": 45,
   "metadata": {},
   "outputs": [],
   "source": [
    "def decimal_to_roman(dec):\n",
    "    \"\"\"Convert a decimal to the Roman form.\n",
    "    \n",
    "    Parameters\n",
    "    ----------\n",
    "    dec : int\n",
    "        A positive integer number\n",
    "    \n",
    "    Returns\n",
    "    -------\n",
    "    rom : str\n",
    "        A string representation of a Roman numeral form of `dec`.\n",
    "    \"\"\"\n",
    "    rom = ''\n",
    "    rev_mapping = dict((val,key) for key, val in mapping.items())\n",
    "    rev_key = list(rev_mapping.keys())\n",
    "    rev_key.reverse()\n",
    "\n",
    "    for intVal in rev_key:\n",
    "        while dec >= intVal:\n",
    "            rom += rev_mapping[intVal]\n",
    "            dec -= intVal\n",
    "    return rom"
   ]
  },
  {
   "cell_type": "markdown",
   "metadata": {},
   "source": [
    "You need to come up with test cases to show that your conversion works as expected. \n",
    "NB: the conversion is ambiguous in some cases. Any valid conversion is accepted. "
   ]
  },
  {
   "cell_type": "markdown",
   "metadata": {},
   "source": [
    "Now you can run tests in file `tests_decimal_to_roman.txt`. You need to insert a number of false results and listed false results in respective fields in Google Form for this lesson."
   ]
  },
  {
   "cell_type": "code",
   "execution_count": 55,
   "metadata": {},
   "outputs": [
    {
     "name": "stdout",
     "output_type": "stream",
     "text": [
      "973 CMLXXIII\n",
      "145 CXLV\n",
      "1991 MCMXCI\n",
      "79 LXXIX\n",
      "741 DCCXLI\n",
      "554 DLIV\n",
      "448 CDXLVIII\n",
      "1246 MCCXLVIII\n",
      "74 LXXIV\n",
      "98 XCVIII\n",
      "1465 MCDLXV\n",
      "534 DXXXIV\n",
      "654 DCLIV\n",
      "1444 MCDXLIV\n",
      "569 DLXIX\n",
      "292 CCXCII\n",
      "461 CDLXI\n",
      "1879 MDCCCLXXIX\n",
      "1829 MDCCCXXIX\n",
      "634 DCXXXIV\n",
      "1246 MCCXLVI\n",
      "743 DCCXLIII\n",
      "529 DXXIX\n",
      "493 CDXCIII\n",
      "846 DCCCXLVI\n",
      "955 CMLV\n",
      "462 CDLXII\n",
      "420 CDXX\n",
      "931 CMXXXI\n",
      "309 CCCIX\n",
      "243 CCXLIII\n",
      "1545 MDXLV\n",
      "1491 MCDXCI\n",
      "933 CMXXXIII\n",
      "34 XXXIV\n",
      "1893 MDCCCXCIII\n",
      "1891 MDCCCXCI\n",
      "179 CLXXIX\n",
      "1941 MCMXLI\n",
      "1475 MCDLXXV\n",
      "99 XCIX\n",
      "487 CDLXXXVII\n",
      "1046 MXLVI\n",
      "1273 MCCLXX\n",
      "1708 MDCCX\n",
      "1589 MDLXXXIX\n",
      "990 CMXC\n",
      "398 CCCXCVIII\n",
      "43 XLIII\n",
      "1194 MCXCIV\n",
      "1429 MCDXXIX\n",
      "1046 MXLVI\n",
      "1473 MCDLXXIII\n",
      "943 CMXLIII\n",
      "89 LXXXIX\n",
      "792 DCCXCII\n",
      "1942 MCMXLII\n",
      "354 CCCLIV\n",
      "1548 MDXLVIII\n",
      "81 LXXXIV\n",
      "926 CMXXVI\n",
      "241 CCXLI\n",
      "247 CCXLVII\n",
      "1432 MCDXXXII\n",
      "779 DCCLXXIX\n",
      "1344 MCCCXLIV\n",
      "1925 MCMXXV\n",
      "96 XCVI\n",
      "1119 MCXIX\n",
      "254 CCLIV\n",
      "894 DCCCXCIV\n",
      "461 CDLXI\n",
      "929 CMXXIX\n",
      "1144 MCXLIV\n",
      "1842 MDCCCXLII\n",
      "897 DCCCXCVII\n",
      "799 DCCXCVII\n",
      "679 DCLXXIX\n",
      "485 CDLXXXV\n",
      "1494 MCDXCIV\n",
      "1946 MCMXLVI\n",
      "1504 MDIV\n",
      "968 CMLXVIII\n",
      "895 DCCCXCV\n",
      "1935 MCMXXXV\n",
      "234 CCXXXIV\n",
      "1455 MCDLV\n",
      "1461 MCDLXI\n",
      "1906 MCMVI\n",
      "844 DCCCXLIV\n",
      "1039 MXXXIX\n",
      "1834 MDCCCXXXIV\n",
      "289 CCLXXXIX\n",
      "704 DCCIV\n",
      "1634 MDCXXXIV\n",
      "1484 MCDLXXXIV\n",
      "19 XIX\n",
      "193 CXCIII\n",
      "901 CMI\n",
      "1864 MDCCCLXIV\n",
      "784 DCCLXXXIV\n",
      "1293 MCCXCIII\n",
      "547 DXLVII\n",
      "589 DLXXXIX\n",
      "1098 MXCVIII\n",
      "911 CMXI\n",
      "1324 MCCCXXIV\n",
      "1859 MDCCCLIX\n",
      "1259 MCCLIX\n",
      "496 CDXCVI\n",
      "1981 MCMLXXXI\n",
      "432 CDXXXII\n",
      "1298 MCCXCVIII\n",
      "490 CDXC\n",
      "1247 MCCXLVII\n",
      "1943 MCMXLIII\n",
      "679 DCLXXIX\n",
      "846 DCCCXLVI\n",
      "1992 MCMXCII\n",
      "430 CDXXIX\n",
      "1297 MCCXCVII\n",
      "79 LXXIX\n",
      "1054 MLIV\n",
      "1938 MCMXXXVIII\n",
      "645 DCXLV\n",
      "1993 MCMXCIII\n",
      "1460 MCDLX\n",
      "977 CMLXXVII\n",
      "913 CMXIII\n",
      "1489 MCDLXXXIX\n",
      "1422 MCDXXII\n",
      "1048 MXLVIII\n",
      "1983 MCMLXXXIII\n",
      "1054 MLIV\n",
      "1790 MDCCXCI\n",
      "1297 MCCXCVII\n",
      "654 DCLIV\n",
      "975 CMLXXV\n",
      "976 CMLXXVI\n"
     ]
    }
   ],
   "source": [
    "p_decimal = \"tests_decimal_to_roman.txt\"\n",
    "with open(p_decimal, \"rb\") as fp_decimal:\n",
    "    lines_decimal=fp_decimal.readlines()\n",
    "\n",
    "test_data_decimal = [line.strip().decode(\"ascii\").split(',') for line in lines_decimal]\n",
    "test_data_decimal = [(line[0], int(line[1])) for line in test_data_decimal]\n",
    "\n",
    "for rom, dec in test_data_roman:\n",
    "    converted = decimal_to_roman(dec)\n",
    "    if converted != rom:\n",
    "        print(dec, rom)"
   ]
  }
 ],
 "metadata": {
  "kernelspec": {
   "display_name": "Python 3",
   "language": "python",
   "name": "python3"
  },
  "language_info": {
   "codemirror_mode": {
    "name": "ipython",
    "version": 3
   },
   "file_extension": ".py",
   "mimetype": "text/x-python",
   "name": "python",
   "nbconvert_exporter": "python",
   "pygments_lexer": "ipython3",
   "version": "3.7.3"
  }
 },
 "nbformat": 4,
 "nbformat_minor": 2
}
