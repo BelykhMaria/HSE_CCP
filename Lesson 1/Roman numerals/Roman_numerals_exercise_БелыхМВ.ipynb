{
 "cells": [
  {
   "cell_type": "markdown",
   "metadata": {},
   "source": [
    "# Roman numerals"
   ]
  },
  {
   "cell_type": "markdown",
   "metadata": {},
   "source": [
    "## I. Roman numerals to decimals\n",
    "\n",
    "Write a function which receives a Roman numeral written out as a string, and returns an integer representing the decimal form of the input number. "
   ]
  },
  {
   "cell_type": "code",
   "execution_count": 72,
   "metadata": {},
   "outputs": [],
   "source": [
    "mapping = {\"I\" : 1, \n",
    "           \"V\" : 5,\n",
    "           \"X\" : 10,\n",
    "           \"L\" : 50,\n",
    "           \"C\" : 100,\n",
    "           \"D\" : 500,\n",
    "           \"M\" : 1000}"
   ]
  },
  {
   "cell_type": "code",
   "execution_count": 73,
   "metadata": {},
   "outputs": [],
   "source": [
    "def roman_to_decimal(rom):\n",
    "    \"\"\"Convert a Roman numeral to decimal.\n",
    "    \n",
    "    Parameters\n",
    "    ----------\n",
    "    rom : str\n",
    "        A Roman numeral representing a positive integer.\n",
    "        \n",
    "    Returns\n",
    "    -------\n",
    "    dec : int\n",
    "        The result of conversion of `rom` into a decimal system.\n",
    "    \"\"\"\n",
    "    '''dec = mapping[rom[0]]\n",
    "    for i in range(1, len(rom)):\n",
    "        if mapping[rom[i - 1]] < mapping[rom[i]]:\n",
    "            dec -= mapping[rom[i]]\n",
    "        else:\n",
    "            dec += mapping[rom[i]]\n",
    "    \n",
    "    return dec if dec > 0 else -dec'''\n",
    "    i = len(rom) - 1\n",
    "    dec = mapping[rom[i]]\n",
    "    while i:\n",
    "        if mapping[rom[i]] > mapping[rom[i - 1]]:\n",
    "            dec -= mapping[rom[i - 1]]\n",
    "        else:\n",
    "            dec += mapping[rom[i - 1]]\n",
    "\n",
    "        i -= 1        \n",
    "   \n",
    "    return dec if dec > 0 else -dec"
   ]
  },
  {
   "cell_type": "markdown",
   "metadata": {},
   "source": [
    "Here are some tests for you to test your code. Your code must pass all of them. You also need to come up with several more tests (your choice)."
   ]
  },
  {
   "cell_type": "code",
   "execution_count": 74,
   "metadata": {},
   "outputs": [
    {
     "name": "stdout",
     "output_type": "stream",
     "text": [
      "True\n",
      "True\n",
      "True\n",
      "True\n",
      "True\n",
      "True\n",
      "True\n",
      "True\n"
     ]
    }
   ],
   "source": [
    "test_pairs = [(\"IX\", 9), (\"XI\", 11), (\"MCCII\", 1202), (\"MMXVIII\", 2018), (\"XLIX\", 49), (\"MMXIX\", 2019), \n",
    "              (\"MCDXCV\", 1495), (\"CLXXVII\", 177)]\n",
    "\n",
    "for rom, dec in test_pairs:\n",
    "    converted = roman_to_decimal(rom)\n",
    "    print(converted == dec)"
   ]
  },
  {
   "cell_type": "markdown",
   "metadata": {},
   "source": [
    "Now you can run tests in file `tests_roman_to_decimal.txt`. You need to insert a number of false results and listed false results in respective fields in Google Form for this lesson."
   ]
  },
  {
   "cell_type": "code",
   "execution_count": 86,
   "metadata": {},
   "outputs": [
    {
     "name": "stdout",
     "output_type": "stream",
     "text": [
      "CDXXIX-430\n",
      "DCCXCVII-799\n",
      "LXXXIV-81\n",
      "MCCLXX-1273\n",
      "MCCXLVIII-1246\n",
      "MDCCX-1708\n",
      "MDCCXCI-1790\n",
      "7\n"
     ]
    }
   ],
   "source": [
    "p_roman = \"tests_roman_to_decimal.txt\"\n",
    "with open(p_roman, \"rb\") as fp_roman:\n",
    "    lines_roman=fp_roman.readlines()\n",
    "\n",
    "test_data_roman = [line.strip().decode(\"ascii\").split(',') for line in lines_roman]\n",
    "test_data_roman = [(line[0], int(line[1])) for line in test_data_roman]\n",
    "#test_data_roman.sort()\n",
    "\n",
    "count = 0\n",
    "for rom, dec in test_data_roman:\n",
    "    converted = roman_to_decimal(rom)\n",
    "    if converted != dec:\n",
    "        count += 1\n",
    "        print(rom, dec, sep='-')\n",
    "print(count)    "
   ]
  },
  {
   "cell_type": "markdown",
   "metadata": {},
   "source": [
    "## II. Decimal numbers to roman numerals.\n",
    "\n",
    "The maximum grade for first task (Roman to decimal) is 7 on the 10-point HSE scale. For extra credit, complete the second task: *given a decimal number, convert it to the Roman form*."
   ]
  },
  {
   "cell_type": "code",
   "execution_count": 76,
   "metadata": {},
   "outputs": [
    {
     "name": "stdout",
     "output_type": "stream",
     "text": [
      "True\n",
      "True\n",
      "True\n",
      "True\n",
      "True\n",
      "True\n",
      "True\n",
      "True\n",
      "True\n"
     ]
    }
   ],
   "source": [
    "rev_mapping = {1 : \"I\",\n",
    "               4 : \"IV\",\n",
    "               5 : \"V\",\n",
    "               9 : \"IX\",\n",
    "               10 : \"X\",\n",
    "               40 : \"XL\",\n",
    "               50 : \"L\",               \n",
    "               90 : \"XC\", \n",
    "               100 : \"C\", \n",
    "               400 : \"CD\", \n",
    "               500 : \"D\", \n",
    "               900 : \"CM\", \n",
    "               1000 : \"M\"}\n",
    "\n",
    "\n",
    "def decimal_to_roman(dec):\n",
    "    \"\"\"Convert a decimal to the Roman form.\n",
    "    \n",
    "    Parameters\n",
    "    ----------\n",
    "    dec : int\n",
    "        A positive integer number\n",
    "    \n",
    "    Returns\n",
    "    -------\n",
    "    rom : str\n",
    "        A string representation of a Roman numeral form of `dec`.\n",
    "    \"\"\"\n",
    "    rom = ''\n",
    "    \n",
    "    for val, key in sorted(rev_mapping.items(), reverse=True):\n",
    "        while dec >= val:\n",
    "            rom += key\n",
    "            dec -= val\n",
    "    return rom\n",
    "\n",
    "test_pairs = [(\"IX\", 9), (\"XI\", 11), (\"MCCII\", 1202), (\"MMXVIII\", 2018), (\"XLIX\", 49), (\"MMXIX\", 2019), \n",
    "              (\"MCDXCV\", 1495), (\"CLXXVII\", 177), (\"MCMXCIV\", 1994)]\n",
    "\n",
    "for rom, dec in test_pairs:\n",
    "    converted = decimal_to_roman(dec)\n",
    "    print(converted == rom)"
   ]
  },
  {
   "cell_type": "markdown",
   "metadata": {},
   "source": [
    "You need to come up with test cases to show that your conversion works as expected. \n",
    "NB: the conversion is ambiguous in some cases. Any valid conversion is accepted. "
   ]
  },
  {
   "cell_type": "markdown",
   "metadata": {},
   "source": [
    "Now you can run tests in file `tests_decimal_to_roman.txt`. You need to insert a number of false results and listed false results in respective fields in Google Form for this lesson."
   ]
  },
  {
   "cell_type": "code",
   "execution_count": 87,
   "metadata": {},
   "outputs": [
    {
     "name": "stdout",
     "output_type": "stream",
     "text": [
      "1886-MDCCCLXXXVIII\n",
      "978-CMLXXV\n",
      "1841-MDCCCXLIV\n",
      "1804-MDCCCIII\n",
      "1807-MDCCCVIII\n",
      "1975-MCMLXXVI\n",
      "6\n"
     ]
    }
   ],
   "source": [
    "p_decimal = \"tests_decimal_to_roman.txt\"\n",
    "with open(p_decimal, \"rb\") as fp_decimal:\n",
    "    lines_decimal=fp_decimal.readlines()\n",
    "\n",
    "test_data_decimal = [line.strip().decode(\"ascii\").split(',') for line in lines_decimal]\n",
    "test_data_decimal = [(line[0], int(line[1])) for line in test_data_decimal]\n",
    "#test_data_decimal.sort()\n",
    "\n",
    "count = 0\n",
    "for rom, dec in test_data_decimal:\n",
    "    converted = decimal_to_roman(dec)\n",
    "    if converted != rom:\n",
    "        count += 1\n",
    "        print(dec, rom, sep='-')\n",
    "print(count)"
   ]
  }
 ],
 "metadata": {
  "kernelspec": {
   "display_name": "Python 3",
   "language": "python",
   "name": "python3"
  },
  "language_info": {
   "codemirror_mode": {
    "name": "ipython",
    "version": 3
   },
   "file_extension": ".py",
   "mimetype": "text/x-python",
   "name": "python",
   "nbconvert_exporter": "python",
   "pygments_lexer": "ipython3",
   "version": "3.7.3"
  }
 },
 "nbformat": 4,
 "nbformat_minor": 2
}
